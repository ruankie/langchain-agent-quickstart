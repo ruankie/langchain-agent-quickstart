{
 "cells": [
  {
   "cell_type": "markdown",
   "metadata": {},
   "source": [
    "# LangChain Agent\n",
    "\n",
    "From \n",
    "- https://python.langchain.com/v0.1/docs/modules/agents/quick_start/\n",
    "- https://python.langchain.com/v0.1/docs/modules/agents/how_to/custom_agent/"
   ]
  },
  {
   "cell_type": "code",
   "execution_count": 1,
   "metadata": {},
   "outputs": [],
   "source": [
    "import os\n",
    "\n",
    "from dotenv import load_dotenv\n",
    "from langchain_openai import AzureChatOpenAI\n",
    "from langchain.agents import tool\n",
    "from langchain.agents import AgentExecutor\n",
    "from langchain.agents import create_tool_calling_agent, create_openai_tools_agent\n",
    "from langchain import hub"
   ]
  },
  {
   "cell_type": "code",
   "execution_count": 2,
   "metadata": {},
   "outputs": [
    {
     "data": {
      "text/plain": [
       "True"
      ]
     },
     "execution_count": 2,
     "metadata": {},
     "output_type": "execute_result"
    }
   ],
   "source": [
    "load_dotenv()"
   ]
  },
  {
   "cell_type": "markdown",
   "metadata": {},
   "source": [
    "## Set up LLM"
   ]
  },
  {
   "cell_type": "code",
   "execution_count": 3,
   "metadata": {},
   "outputs": [],
   "source": [
    "llm = AzureChatOpenAI(\n",
    "    openai_api_version=os.environ[\"AZURE_OPENAI_API_VERSION\"],\n",
    "    azure_deployment=os.environ[\"AZURE_OPENAI_CHAT_DEPLOYMENT_NAME\"],\n",
    "    temperature=0\n",
    ")"
   ]
  },
  {
   "cell_type": "markdown",
   "metadata": {},
   "source": [
    "## Define tools"
   ]
  },
  {
   "cell_type": "code",
   "execution_count": 4,
   "metadata": {},
   "outputs": [],
   "source": [
    "@tool\n",
    "def get_word_length(word: str) -> int:\n",
    "    \"\"\"Returns the length of a word.\"\"\"\n",
    "    return len(word)\n",
    "\n",
    "@tool\n",
    "def get_temperature(location: str) -> int:\n",
    "    \"\"\"Returns the live temperature at a given location in degrees Celsius.\"\"\"\n",
    "    return 25\n",
    "\n",
    "@tool\n",
    "def magic_function(input: int) -> int:\n",
    "    \"\"\"Applies a magic function to an input.\"\"\"\n",
    "    return input + 2"
   ]
  },
  {
   "cell_type": "code",
   "execution_count": 5,
   "metadata": {},
   "outputs": [],
   "source": [
    "# get_word_length.invoke(\"abc\")"
   ]
  },
  {
   "cell_type": "code",
   "execution_count": 6,
   "metadata": {},
   "outputs": [],
   "source": [
    "tools = [magic_function, get_word_length]"
   ]
  },
  {
   "cell_type": "markdown",
   "metadata": {},
   "source": [
    "## Agent instruction"
   ]
  },
  {
   "cell_type": "code",
   "execution_count": 7,
   "metadata": {},
   "outputs": [
    {
     "data": {
      "text/plain": [
       "[SystemMessagePromptTemplate(prompt=PromptTemplate(input_variables=[], template='You are a helpful assistant')),\n",
       " MessagesPlaceholder(variable_name='chat_history', optional=True),\n",
       " HumanMessagePromptTemplate(prompt=PromptTemplate(input_variables=['input'], template='{input}')),\n",
       " MessagesPlaceholder(variable_name='agent_scratchpad')]"
      ]
     },
     "execution_count": 7,
     "metadata": {},
     "output_type": "execute_result"
    }
   ],
   "source": [
    "# Get the prompt to use - you can modify this!\n",
    "prompt = hub.pull(\"hwchase17/openai-functions-agent\")\n",
    "prompt.messages"
   ]
  },
  {
   "cell_type": "markdown",
   "metadata": {},
   "source": [
    "## Create agent"
   ]
  },
  {
   "cell_type": "code",
   "execution_count": 8,
   "metadata": {},
   "outputs": [],
   "source": [
    "# Create agent\n",
    "agent = create_tool_calling_agent(llm, tools, prompt)\n",
    "# agent = create_openai_tools_agent(llm, tools, prompt)"
   ]
  },
  {
   "cell_type": "code",
   "execution_count": 9,
   "metadata": {},
   "outputs": [],
   "source": [
    "# Create executor\n",
    "agent_executor = AgentExecutor(agent=agent, tools=tools, verbose=True, handle_parsing_errors=True)"
   ]
  },
  {
   "cell_type": "markdown",
   "metadata": {},
   "source": [
    "## Invoke"
   ]
  },
  {
   "cell_type": "code",
   "execution_count": 10,
   "metadata": {},
   "outputs": [
    {
     "name": "stdout",
     "output_type": "stream",
     "text": [
      "\n",
      "\n",
      "\u001b[1m> Entering new AgentExecutor chain...\u001b[0m\n",
      "\u001b[32;1m\u001b[1;3mCould not parse tool input: {'arguments': \"const get_word_length: functions.get_word_length = ({ word }) => {\\n  return word.length;\\n};\\n\\nget_word_length({ word: 'beach' });\", 'name': 'functions'} because the `arguments` is not valid JSON.\u001b[0mInvalid or incomplete response\u001b[32;1m\u001b[1;3mCould not parse tool input: {'arguments': \"from typing import Dict, Any\\n\\ndef get_word_length(args: Dict[str, Any]) -> int:\\n    word = args['word']\\n    return len(word)\\n\\nget_word_length({'word': 'beach'})\", 'name': 'python'} because the `arguments` is not valid JSON.\u001b[0mInvalid or incomplete response\u001b[32;1m\u001b[1;3mCould not parse tool input: {'arguments': \"from typing import Dict, Any\\n\\ndef get_word_length(args: Dict[str, Any]) -> int:\\n    word = args['word']\\n    return len(word)\\n\\nget_word_length({'word': 'beach'})\", 'name': 'python'} because the `arguments` is not valid JSON.\u001b[0mInvalid or incomplete response\u001b[32;1m\u001b[1;3mCould not parse tool input: {'arguments': \"from typing import Dict, Any\\n\\ndef get_word_length(args: Dict[str, Any]) -> int:\\n    word = args['word']\\n    return len(word)\\n\\nget_word_length({'word': 'beach'})\", 'name': 'python'} because the `arguments` is not valid JSON.\u001b[0mInvalid or incomplete response\u001b[32;1m\u001b[1;3mCould not parse tool input: {'arguments': \"from typing import Dict, Any\\n\\ndef get_word_length(args: Dict[str, Any]) -> int:\\n    word = args['word']\\n    return len(word)\\n\\nget_word_length({'word': 'beach'})\", 'name': 'python'} because the `arguments` is not valid JSON.\u001b[0mInvalid or incomplete response\u001b[32;1m\u001b[1;3mCould not parse tool input: {'arguments': \"from typing import Dict, Any\\n\\ndef get_word_length(args: Dict[str, Any]) -> int:\\n    word = args['word']\\n    return len(word)\\n\\nget_word_length({'word': 'beach'})\", 'name': 'python'} because the `arguments` is not valid JSON.\u001b[0mInvalid or incomplete response\u001b[32;1m\u001b[1;3mCould not parse tool input: {'arguments': \"from typing import Dict, Any\\n\\ndef get_word_length(args: Dict[str, Any]) -> int:\\n    word = args['word']\\n    return len(word)\\n\\nget_word_length({'word': 'beach'})\", 'name': 'python'} because the `arguments` is not valid JSON.\u001b[0mInvalid or incomplete response\u001b[32;1m\u001b[1;3mCould not parse tool input: {'arguments': \"from typing import Dict, Any\\n\\ndef get_word_length(args: Dict[str, Any]) -> int:\\n    word = args['word']\\n    return len(word)\\n\\nget_word_length({'word': 'beach'})\", 'name': 'python'} because the `arguments` is not valid JSON.\u001b[0mInvalid or incomplete response\u001b[32;1m\u001b[1;3mCould not parse tool input: {'arguments': \"from typing import Dict, Any\\n\\ndef get_word_length(args: Dict[str, Any]) -> int:\\n    word = args['word']\\n    return len(word)\\n\\nget_word_length({'word': 'beach'})\", 'name': 'python'} because the `arguments` is not valid JSON.\u001b[0mInvalid or incomplete response\u001b[32;1m\u001b[1;3mCould not parse tool input: {'arguments': \"from typing import Dict, Any\\n\\ndef get_word_length(args: Dict[str, Any]) -> int:\\n    word = args['word']\\n    return len(word)\\n\\nget_word_length({'word': 'beach'})\", 'name': 'python'} because the `arguments` is not valid JSON.\u001b[0mInvalid or incomplete response\u001b[32;1m\u001b[1;3mCould not parse tool input: {'arguments': \"from typing import Dict, Any\\n\\ndef get_word_length(args: Dict[str, Any]) -> int:\\n    word = args['word']\\n    return len(word)\\n\\nget_word_length({'word': 'beach'})\", 'name': 'python'} because the `arguments` is not valid JSON.\u001b[0mInvalid or incomplete response\u001b[32;1m\u001b[1;3mCould not parse tool input: {'arguments': \"from typing import Dict, Any\\n\\ndef get_word_length(args: Dict[str, Any]) -> int:\\n    word = args['word']\\n    return len(word)\\n\\nget_word_length({'word': 'beach'})\", 'name': 'python'} because the `arguments` is not valid JSON.\u001b[0mInvalid or incomplete response\u001b[32;1m\u001b[1;3mCould not parse tool input: {'arguments': \"from typing import Dict, Any\\n\\ndef get_word_length(args: Dict[str, Any]) -> int:\\n    word = args['word']\\n    return len(word)\\n\\nget_word_length({'word': 'beach'})\", 'name': 'python'} because the `arguments` is not valid JSON.\u001b[0mInvalid or incomplete response\u001b[32;1m\u001b[1;3mCould not parse tool input: {'arguments': \"from typing import Dict, Any\\n\\ndef get_word_length(args: Dict[str, Any]) -> int:\\n    word = args['word']\\n    return len(word)\\n\\nget_word_length({'word': 'beach'})\", 'name': 'python'} because the `arguments` is not valid JSON.\u001b[0mInvalid or incomplete response\u001b[32;1m\u001b[1;3mCould not parse tool input: {'arguments': \"from typing import Dict, Any\\n\\ndef get_word_length(args: Dict[str, Any]) -> int:\\n    word = args['word']\\n    return len(word)\\n\\nget_word_length({'word': 'beach'})\", 'name': 'python'} because the `arguments` is not valid JSON.\u001b[0mInvalid or incomplete response\u001b[32;1m\u001b[1;3m\u001b[0m\n",
      "\n",
      "\u001b[1m> Finished chain.\u001b[0m\n"
     ]
    },
    {
     "data": {
      "text/plain": [
       "{'input': \"what is the length of the word 'beach'?\",\n",
       " 'output': 'Agent stopped due to max iterations.'}"
      ]
     },
     "execution_count": 10,
     "metadata": {},
     "output_type": "execute_result"
    }
   ],
   "source": [
    "# agent_executor.invoke({\"input\": \"What is the current temperature in Cape Town? Use your `get_temperature('Cape Town')` to get the answer.\"})\n",
    "# agent_executor.invoke({\"input\": \"what is the value of magic_function(3)?\"})\n",
    "agent_executor.invoke({\"input\": \"what is the length of the word 'beach'?\"})"
   ]
  },
  {
   "cell_type": "code",
   "execution_count": null,
   "metadata": {},
   "outputs": [],
   "source": []
  }
 ],
 "metadata": {
  "kernelspec": {
   "display_name": "langchain-agent-quickstart-pulca7gZ-py3.11",
   "language": "python",
   "name": "python3"
  },
  "language_info": {
   "codemirror_mode": {
    "name": "ipython",
    "version": 3
   },
   "file_extension": ".py",
   "mimetype": "text/x-python",
   "name": "python",
   "nbconvert_exporter": "python",
   "pygments_lexer": "ipython3",
   "version": "3.11.9"
  }
 },
 "nbformat": 4,
 "nbformat_minor": 2
}
